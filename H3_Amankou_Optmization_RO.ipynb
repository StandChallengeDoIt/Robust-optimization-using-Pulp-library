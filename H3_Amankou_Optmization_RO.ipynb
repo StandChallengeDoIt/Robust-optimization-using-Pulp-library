{
 "cells": [
  {
   "cell_type": "markdown",
   "id": "0f458e96",
   "metadata": {},
   "source": [
    "# Homework 3: Portfolio Management simulation"
   ]
  },
  {
   "cell_type": "markdown",
   "id": "c4b3ccf9",
   "metadata": {},
   "source": [
    "## Gamma = 0 and iterates for 100 runs"
   ]
  },
  {
   "cell_type": "code",
   "execution_count": 81,
   "id": "0ce9cb3d",
   "metadata": {},
   "outputs": [
    {
     "name": "stdout",
     "output_type": "stream",
     "text": [
      "For gamma: 0 , Risk_adjustale_return z: 1.1815197\n",
      "For gamma: 0 , Expected_value is sum(x_iP_i): 1.2041071571324724\n"
     ]
    }
   ],
   "source": [
    "import pulp\n",
    "import random\n",
    "import math\n",
    "import numpy as np\n",
    "\n",
    "gamma =0  \n",
    "num_simulation = 100 # The number of iterations is 100\n",
    "n=150\n",
    "# Let's define the problem as a maximisation problem\n",
    "prob = pulp.LpProblem(\"Portfolio_Management_problem\", pulp.LpMaximize)\n",
    "prob += 0\n",
    "\n",
    "# Definition of the decision variables\n",
    "x = {}  # Investment in stocks\n",
    "d = {}  # Dual problem variable\n",
    "g = {}  # new decision variable\n",
    "\n",
    "z = pulp.LpVariable(\"Risk_adjusted_return\", lowBound=0)\n",
    "for i in range(n):\n",
    "    x[i] = pulp.LpVariable(f\"stock_invest_{i}\", lowBound=0)\n",
    "    d[i] = pulp.LpVariable(f\"dual_variable_{i}\", lowBound=0)\n",
    "    g[i] = pulp.LpVariable(f\"new_decision_variable_{i}\", lowBound=0)\n",
    "    \n",
    "# Define the objective function\n",
    "prob.objective=z\n",
    "\n",
    "# Simulation start\n",
    "for sim in range(num_simulation):\n",
    "# Definition of the constraints\n",
    "    expected1=0\n",
    "    sdt_deviation=0\n",
    "    sum1=0\n",
    "    sum2=0\n",
    "    for t in range(n):\n",
    "        p_i=1.15+t*(0.05/150)\n",
    "        A_i=(0.05/450)*math.sqrt(2*t*n*(n+1))\n",
    "        prob += z <= sum(random.uniform(1.01, 1.4) * x[f] for f in range(n)) - sum(d[f] for f in range(n)) - g[t] * gamma \n",
    "        prob += g[t] + d[t] >= A_i * x[t]\n",
    "        prob += sum(x[f] for f in range(n)) == 1\n",
    "        expected1 += x[t]*random.uniform(1.01, 1.4)\n",
    "#Solving the problem\n",
    "prob.solve()\n",
    "result1 = pulp.value(prob.objective) \n",
    "\n",
    "# Printing the results\n",
    "print('For gamma:',gamma,', Risk_adjustale_return z:',np.mean(result1))\n",
    "print('For gamma:',gamma,', Expected_value is sum(x_iP_i):',np.mean(pulp.value(expected1)))\n",
    "#print('For gamma:',gamma, ', sdt_deviation W:', pulp.value(math.sqrt((pulp.value(sum1))*(sum2))))"
   ]
  },
  {
   "cell_type": "markdown",
   "id": "b398cdee",
   "metadata": {},
   "source": [
    "## Gamma = 5 and iterates for 50 runs"
   ]
  },
  {
   "cell_type": "code",
   "execution_count": 82,
   "id": "42c70ba5",
   "metadata": {},
   "outputs": [
    {
     "name": "stdout",
     "output_type": "stream",
     "text": [
      "For gamma: 5 , Risk_adjustale_return z: 1.1742471\n",
      "For gamma: 5 , Expected_value is sum(x_iP_i): 1.2099445838625165\n"
     ]
    }
   ],
   "source": [
    "import pulp\n",
    "import random\n",
    "import math\n",
    "import numpy as np\n",
    "\n",
    "gamma =5  \n",
    "num_simulation = 100 # The number of iterations is 100\n",
    "n=150\n",
    "# Let's define the problem as a maximisation problem\n",
    "prob = pulp.LpProblem(\"Portfolio_Management_problem\", pulp.LpMaximize)\n",
    "prob += 0\n",
    "\n",
    "# Definition of the decision variables\n",
    "x = {}  # Investment in stocks\n",
    "d = {}  # Dual problem variable\n",
    "g = {}  # new decision variable\n",
    "\n",
    "z = pulp.LpVariable(\"Risk_adjusted_return\", lowBound=0)\n",
    "for i in range(n):\n",
    "    x[i] = pulp.LpVariable(f\"stock_invest_{i}\", lowBound=0)\n",
    "    d[i] = pulp.LpVariable(f\"dual_variable_{i}\", lowBound=0)\n",
    "    g[i] = pulp.LpVariable(f\"new_decision_variable_{i}\", lowBound=0)\n",
    "    \n",
    "# Define the objective function\n",
    "prob.objective=z\n",
    "\n",
    "# Simulation start\n",
    "for sim in range(num_simulation):\n",
    "# Definition of the constraints\n",
    "    expected2=0\n",
    "    sdt_deviation=0\n",
    "    for t in range(n):\n",
    "        p_i=1.15+t*(0.05/150)\n",
    "        A_i=(0.05/450)*math.sqrt(2*t*n*(n+1))\n",
    "        prob += z <= sum(random.uniform(1.01, 1.4) * x[f] for f in range(n)) - sum(d[f] for f in range(n)) - g[t] * gamma \n",
    "        prob += g[t] + d[t] >= A_i * x[t]\n",
    "        prob += sum(x[f] for f in range(n)) == 1\n",
    "        expected2 += x[t]*random.uniform(1.01, 1.4)\n",
    "#Solving the problem\n",
    "prob.solve()\n",
    "result2 = pulp.value(prob.objective) \n",
    "\n",
    "# Printing the results\n",
    "print('For gamma:',gamma,', Risk_adjustale_return z:',np.mean(result2))\n",
    "print('For gamma:',gamma,', Expected_value is sum(x_iP_i):',np.mean(pulp.value(expected2)))\n",
    "#print('For gamma:',gamma, ', sdt_deviation W:', pulp.value(math.sqrt((pulp.value(sum1))*(sum2))))"
   ]
  },
  {
   "cell_type": "markdown",
   "id": "9a57f090",
   "metadata": {},
   "source": [
    "## Gamma = 10 and iterates for 50 runs"
   ]
  },
  {
   "cell_type": "code",
   "execution_count": 83,
   "id": "92520870",
   "metadata": {},
   "outputs": [
    {
     "name": "stdout",
     "output_type": "stream",
     "text": [
      "For gamma: 10 , Risk_adjustale_return z: 1.1683623\n",
      "For gamma: 10 , Expected_value is sum(x_iP_i): 1.226614380784746\n"
     ]
    }
   ],
   "source": [
    "import pulp\n",
    "import random\n",
    "import math\n",
    "import numpy as np\n",
    "\n",
    "gamma =10  \n",
    "num_simulation = 100 # The number of iterations is 100\n",
    "n=150\n",
    "# Let's define the problem as a maximisation problem\n",
    "prob = pulp.LpProblem(\"Portfolio_Management_problem\", pulp.LpMaximize)\n",
    "prob += 0\n",
    "\n",
    "# Definition of the decision variables\n",
    "x = {}  # Investment in stocks\n",
    "d = {}  # Dual problem variable\n",
    "g = {}  # new decision variable\n",
    "\n",
    "z = pulp.LpVariable(\"Risk_adjusted_return\", lowBound=0)\n",
    "for i in range(n):\n",
    "    x[i] = pulp.LpVariable(f\"stock_invest_{i}\", lowBound=0)\n",
    "    d[i] = pulp.LpVariable(f\"dual_variable_{i}\", lowBound=0)\n",
    "    g[i] = pulp.LpVariable(f\"new_decision_variable_{i}\", lowBound=0)\n",
    "    \n",
    "# Define the objective function\n",
    "prob.objective=z\n",
    "\n",
    "# Simulation start\n",
    "for sim in range(num_simulation):\n",
    "# Definition of the constraints\n",
    "    expected3=0\n",
    "    sdt_deviation=0\n",
    "    for t in range(n):\n",
    "        p_i=1.15+t*(0.05/150)\n",
    "        A_i=(0.05/450)*math.sqrt(2*t*n*(n+1))\n",
    "        prob += z <= sum(random.uniform(1.01, 1.4) * x[f] for f in range(n)) - sum(d[f] for f in range(n)) - g[t] * gamma \n",
    "        prob += g[t] + d[t] >= A_i * x[t]\n",
    "        prob += sum(x[f] for f in range(n)) == 1\n",
    "        expected3 += x[t]*random.uniform(1.01, 1.4)\n",
    "#Solving the problem\n",
    "prob.solve()\n",
    "result3 = pulp.value(prob.objective) \n",
    "\n",
    "# Printing the results\n",
    "print('For gamma:',gamma,', Risk_adjustale_return z:',np.mean(result3))\n",
    "print('For gamma:',gamma,', Expected_value is sum(x_iP_i):',np.mean(pulp.value(expected3)))\n",
    "#print('For gamma:',gamma, ', sdt_deviation W:', pulp.value(math.sqrt((pulp.value(sum1))*(sum2))))"
   ]
  },
  {
   "cell_type": "markdown",
   "id": "d83461d4",
   "metadata": {},
   "source": [
    "## Gamma = 15 and iterates for 50 runs"
   ]
  },
  {
   "cell_type": "code",
   "execution_count": 84,
   "id": "9daafcf0",
   "metadata": {},
   "outputs": [
    {
     "name": "stdout",
     "output_type": "stream",
     "text": [
      "For gamma: 15 , Risk_adjustale_return z: 1.162556\n",
      "For gamma: 15 , Expected_value is sum(x_iP_i): 1.2033943799015674\n"
     ]
    }
   ],
   "source": [
    "import pulp\n",
    "import random\n",
    "import math\n",
    "import numpy as np\n",
    "\n",
    "gamma =15  \n",
    "num_simulation = 100 # The number of iterations is 100\n",
    "n=150\n",
    "# Let's define the problem as a maximisation problem\n",
    "prob = pulp.LpProblem(\"Portfolio_Management_problem\", pulp.LpMaximize)\n",
    "prob += 0\n",
    "\n",
    "# Definition of the decision variables\n",
    "x = {}  # Investment in stocks\n",
    "d = {}  # Dual problem variable\n",
    "g = {}  # new decision variable\n",
    "\n",
    "z = pulp.LpVariable(\"Risk_adjusted_return\", lowBound=0)\n",
    "for i in range(n):\n",
    "    x[i] = pulp.LpVariable(f\"stock_invest_{i}\", lowBound=0)\n",
    "    d[i] = pulp.LpVariable(f\"dual_variable_{i}\", lowBound=0)\n",
    "    g[i] = pulp.LpVariable(f\"new_decision_variable_{i}\", lowBound=0)\n",
    "    \n",
    "# Define the objective function\n",
    "prob.objective=z\n",
    "\n",
    "# Simulation start\n",
    "for sim in range(num_simulation):\n",
    "# Definition of the constraints\n",
    "    expected4=0\n",
    "    sdt_deviation=0\n",
    "    for t in range(n):\n",
    "        p_i=1.15+t*(0.05/150)\n",
    "        A_i=(0.05/450)*math.sqrt(2*t*n*(n+1))\n",
    "        prob += z <= sum(random.uniform(1.01, 1.4) * x[f] for f in range(n)) - sum(d[f] for f in range(n)) - g[t] * gamma \n",
    "        prob += g[t] + d[t] >= A_i * x[t]\n",
    "        prob += sum(x[f] for f in range(n)) == 1\n",
    "        expected4 += x[t]*random.uniform(1.01, 1.4)\n",
    "#Solving the problem\n",
    "prob.solve()\n",
    "result4 = pulp.value(prob.objective) \n",
    "\n",
    "# Printing the results\n",
    "print('For gamma:',gamma,', Risk_adjustale_return z:',np.mean(result4))\n",
    "print('For gamma:',gamma,', Expected_value is sum(x_iP_i):',np.mean(pulp.value(expected4)))\n",
    "#print('For gamma:',gamma, ', sdt_deviation W:', pulp.value(math.sqrt((pulp.value(sum1))*(sum2))))"
   ]
  },
  {
   "cell_type": "markdown",
   "id": "62442996",
   "metadata": {},
   "source": [
    "## Gamma = 20 and iterates for 50 runs"
   ]
  },
  {
   "cell_type": "code",
   "execution_count": 85,
   "id": "e9f657da",
   "metadata": {},
   "outputs": [
    {
     "name": "stdout",
     "output_type": "stream",
     "text": [
      "For gamma: 20 , Risk_adjustale_return z: 1.1575755\n",
      "For gamma: 20 , Expected_value is sum(x_iP_i): 1.216841162063224\n"
     ]
    }
   ],
   "source": [
    "import pulp\n",
    "import random\n",
    "import math\n",
    "import numpy as np\n",
    "\n",
    "gamma =20  \n",
    "num_simulation = 100 # The number of iterations is 100\n",
    "n=150\n",
    "# Let's define the problem as a maximisation problem\n",
    "prob = pulp.LpProblem(\"Portfolio_Management_problem\", pulp.LpMaximize)\n",
    "prob += 0\n",
    "\n",
    "# Definition of the decision variables\n",
    "x = {}  # Investment in stocks\n",
    "d = {}  # Dual problem variable\n",
    "g = {}  # new decision variable\n",
    "\n",
    "z = pulp.LpVariable(\"Risk_adjusted_return\", lowBound=0)\n",
    "for i in range(n):\n",
    "    x[i] = pulp.LpVariable(f\"stock_invest_{i}\", lowBound=0)\n",
    "    d[i] = pulp.LpVariable(f\"dual_variable_{i}\", lowBound=0)\n",
    "    g[i] = pulp.LpVariable(f\"new_decision_variable_{i}\", lowBound=0)\n",
    "    \n",
    "# Define the objective function\n",
    "prob.objective=z\n",
    "\n",
    "# Simulation start\n",
    "for sim in range(num_simulation):\n",
    "# Definition of the constraints\n",
    "    expected5=0\n",
    "    sdt_deviation=0\n",
    "    for t in range(n):\n",
    "        p_i=1.15+t*(0.05/150)\n",
    "        A_i=(0.05/450)*math.sqrt(2*t*n*(n+1))\n",
    "        prob += z <= sum(random.uniform(1.01, 1.4) * x[f] for f in range(n)) - sum(d[f] for f in range(n)) - g[t] * gamma \n",
    "        prob += g[t] + d[t] >= A_i * x[t]\n",
    "        prob += sum(x[f] for f in range(n)) == 1\n",
    "        expected5 += x[t]*random.uniform(1.01, 1.4)\n",
    "#Solving the problem\n",
    "prob.solve()\n",
    "result5 = pulp.value(prob.objective) \n",
    "\n",
    "# Printing the results\n",
    "print('For gamma:',gamma,', Risk_adjustale_return z:',np.mean(result5))\n",
    "print('For gamma:',gamma,', Expected_value is sum(x_iP_i):',np.mean(pulp.value(expected5)))\n",
    "#print('For gamma:',gamma, ', sdt_deviation W:', pulp.value(math.sqrt((pulp.value(sum1))*(sum2))))"
   ]
  },
  {
   "cell_type": "markdown",
   "id": "04dcd82f",
   "metadata": {},
   "source": [
    "## Gamma = 25"
   ]
  },
  {
   "cell_type": "code",
   "execution_count": 86,
   "id": "bdeb404b",
   "metadata": {},
   "outputs": [
    {
     "name": "stdout",
     "output_type": "stream",
     "text": [
      "For gamma: 25 , Risk_adjustale_return z: 1.1519834\n",
      "For gamma: 25 , Expected_value is sum(x_iP_i): 1.1949925368810699\n"
     ]
    }
   ],
   "source": [
    "import pulp\n",
    "import random\n",
    "import math\n",
    "import numpy as np\n",
    "\n",
    "gamma =25  \n",
    "num_simulation = 100 # The number of iterations is 100\n",
    "n=150\n",
    "# Let's define the problem as a maximisation problem\n",
    "prob = pulp.LpProblem(\"Portfolio_Management_problem\", pulp.LpMaximize)\n",
    "prob += 0\n",
    "\n",
    "# Definition of the decision variables\n",
    "x = {}  # Investment in stocks\n",
    "d = {}  # Dual problem variable\n",
    "g = {}  # new decision variable\n",
    "\n",
    "z = pulp.LpVariable(\"Risk_adjusted_return\", lowBound=0)\n",
    "for i in range(n):\n",
    "    x[i] = pulp.LpVariable(f\"stock_invest_{i}\", lowBound=0)\n",
    "    d[i] = pulp.LpVariable(f\"dual_variable_{i}\", lowBound=0)\n",
    "    g[i] = pulp.LpVariable(f\"new_decision_variable_{i}\", lowBound=0)\n",
    "    \n",
    "# Define the objective function\n",
    "prob.objective=z\n",
    "\n",
    "# Simulation start\n",
    "for sim in range(num_simulation):\n",
    "# Definition of the constraints\n",
    "    expected6=0\n",
    "    sdt_deviation=0\n",
    "    for t in range(n):\n",
    "        p_i=1.15+t*(0.05/150)\n",
    "        A_i=(0.05/450)*math.sqrt(2*t*n*(n+1))\n",
    "        prob += z <= sum(random.uniform(1.01, 1.4) * x[f] for f in range(n)) - sum(d[f] for f in range(n)) - g[t] * gamma \n",
    "        prob += g[t] + d[t] >= A_i * x[t]\n",
    "        prob += sum(x[f] for f in range(n)) == 1\n",
    "        expected6 += x[t]*random.uniform(1.01, 1.4)\n",
    "#Solving the problem\n",
    "prob.solve()\n",
    "result6 = pulp.value(prob.objective) \n",
    "\n",
    "# Printing the results\n",
    "print('For gamma:',gamma,', Risk_adjustale_return z:',np.mean(result6))\n",
    "print('For gamma:',gamma,', Expected_value is sum(x_iP_i):',np.mean(pulp.value(expected6)))\n",
    "#print('For gamma:',gamma, ', sdt_deviation W:', pulp.value(math.sqrt((pulp.value(sum1))*(sum2))))"
   ]
  },
  {
   "cell_type": "markdown",
   "id": "a363ac0b",
   "metadata": {},
   "source": [
    "## Gamma = 30"
   ]
  },
  {
   "cell_type": "code",
   "execution_count": 87,
   "id": "ccffa043",
   "metadata": {},
   "outputs": [
    {
     "name": "stdout",
     "output_type": "stream",
     "text": [
      "For gamma: 30 , Risk_adjustale_return z: 1.1469678\n",
      "For gamma: 30 , Expected_value is sum(x_iP_i): 1.195732855240444\n"
     ]
    }
   ],
   "source": [
    "import pulp\n",
    "import random\n",
    "import math\n",
    "import numpy as np\n",
    "\n",
    "gamma =30  \n",
    "num_simulation = 100 # The number of iterations is 100\n",
    "n=150\n",
    "# Let's define the problem as a maximisation problem\n",
    "prob = pulp.LpProblem(\"Portfolio_Management_problem\", pulp.LpMaximize)\n",
    "prob += 0\n",
    "\n",
    "# Definition of the decision variables\n",
    "x = {}  # Investment in stocks\n",
    "d = {}  # Dual problem variable\n",
    "g = {}  # new decision variable\n",
    "\n",
    "z = pulp.LpVariable(\"Risk_adjusted_return\", lowBound=0)\n",
    "for i in range(n):\n",
    "    x[i] = pulp.LpVariable(f\"stock_invest_{i}\", lowBound=0)\n",
    "    d[i] = pulp.LpVariable(f\"dual_variable_{i}\", lowBound=0)\n",
    "    g[i] = pulp.LpVariable(f\"new_decision_variable_{i}\", lowBound=0)\n",
    "    \n",
    "# Define the objective function\n",
    "prob.objective=z\n",
    "\n",
    "# Simulation start\n",
    "for sim in range(num_simulation):\n",
    "# Definition of the constraints\n",
    "    expected7=0\n",
    "    sdt_deviation=0\n",
    "    for t in range(n):\n",
    "        p_i=1.15+t*(0.05/150)\n",
    "        A_i=(0.05/450)*math.sqrt(2*t*n*(n+1))\n",
    "        prob += z <= sum(random.uniform(1.01, 1.4) * x[f] for f in range(n)) - sum(d[f] for f in range(n)) - g[t] * gamma \n",
    "        prob += g[t] + d[t] >= A_i * x[t]\n",
    "        prob += sum(x[f] for f in range(n)) == 1\n",
    "        expected7 += x[t]*random.uniform(1.01, 1.4)\n",
    "#Solving the problem\n",
    "prob.solve()\n",
    "result7 = pulp.value(prob.objective) \n",
    "\n",
    "# Printing the results\n",
    "print('For gamma:',gamma,', Risk_adjustale_return z:',np.mean(result7))\n",
    "print('For gamma:',gamma,', Expected_value is sum(x_iP_i):',np.mean(pulp.value(expected7)))\n",
    "#print('For gamma:',gamma, ', sdt_deviation W:', pulp.value(math.sqrt((pulp.value(sum1))*(sum2))))"
   ]
  },
  {
   "cell_type": "markdown",
   "id": "d06d738e",
   "metadata": {},
   "source": [
    "## Gamma = 35"
   ]
  },
  {
   "cell_type": "code",
   "execution_count": 88,
   "id": "65a01295",
   "metadata": {},
   "outputs": [
    {
     "name": "stdout",
     "output_type": "stream",
     "text": [
      "For gamma: 35 , Risk_adjustale_return z: 1.1420373\n",
      "For gamma: 35 , Expected_value is sum(x_iP_i): 1.205039740206565\n"
     ]
    }
   ],
   "source": [
    "import pulp\n",
    "import random\n",
    "import math\n",
    "import numpy as np\n",
    "\n",
    "gamma =35  \n",
    "num_simulation = 100 # The number of iterations is 100\n",
    "n=150\n",
    "# Let's define the problem as a maximisation problem\n",
    "prob = pulp.LpProblem(\"Portfolio_Management_problem\", pulp.LpMaximize)\n",
    "prob += 0\n",
    "\n",
    "# Definition of the decision variables\n",
    "x = {}  # Investment in stocks\n",
    "d = {}  # Dual problem variable\n",
    "g = {}  # new decision variable\n",
    "\n",
    "z = pulp.LpVariable(\"Risk_adjusted_return\", lowBound=0)\n",
    "for i in range(n):\n",
    "    x[i] = pulp.LpVariable(f\"stock_invest_{i}\", lowBound=0)\n",
    "    d[i] = pulp.LpVariable(f\"dual_variable_{i}\", lowBound=0)\n",
    "    g[i] = pulp.LpVariable(f\"new_decision_variable_{i}\", lowBound=0)\n",
    "    \n",
    "# Define the objective function\n",
    "prob.objective=z\n",
    "\n",
    "# Simulation start\n",
    "for sim in range(num_simulation):\n",
    "# Definition of the constraints\n",
    "    expected8=0\n",
    "    sdt_deviation=0\n",
    "    for t in range(n):\n",
    "        p_i=1.15+t*(0.05/150)\n",
    "        A_i=(0.05/450)*math.sqrt(2*t*n*(n+1))\n",
    "        prob += z <= sum(random.uniform(1.01, 1.4) * x[f] for f in range(n)) - sum(d[f] for f in range(n)) - g[t] * gamma \n",
    "        prob += g[t] + d[t] >= A_i * x[t]\n",
    "        prob += sum(x[f] for f in range(n)) == 1\n",
    "        expected8 += x[t]*random.uniform(1.01, 1.4)\n",
    "#Solving the problem\n",
    "prob.solve()\n",
    "result8 = pulp.value(prob.objective) \n",
    "\n",
    "# Printing the results\n",
    "print('For gamma:',gamma,', Risk_adjustale_return z:',np.mean(result8))\n",
    "print('For gamma:',gamma,', Expected_value is sum(x_iP_i):',np.mean(pulp.value(expected8)))\n",
    "#print('For gamma:',gamma, ', sdt_deviation W:', pulp.value(math.sqrt((pulp.value(sum1))*(sum2))))"
   ]
  },
  {
   "cell_type": "markdown",
   "id": "a7ef327d",
   "metadata": {},
   "source": [
    "## Gamma = 40"
   ]
  },
  {
   "cell_type": "code",
   "execution_count": 89,
   "id": "30117216",
   "metadata": {},
   "outputs": [
    {
     "name": "stdout",
     "output_type": "stream",
     "text": [
      "For gamma: 40 , Risk_adjustale_return z: 1.1362631\n",
      "For gamma: 40 , Expected_value is sum(x_iP_i): 1.2009682209515846\n"
     ]
    }
   ],
   "source": [
    "import pulp\n",
    "import random\n",
    "import math\n",
    "import numpy as np\n",
    "\n",
    "gamma =40  \n",
    "num_simulation = 100 # The number of iterations is 100\n",
    "n=150\n",
    "# Let's define the problem as a maximisation problem\n",
    "prob = pulp.LpProblem(\"Portfolio_Management_problem\", pulp.LpMaximize)\n",
    "prob += 0\n",
    "\n",
    "# Definition of the decision variables\n",
    "x = {}  # Investment in stocks\n",
    "d = {}  # Dual problem variable\n",
    "g = {}  # new decision variable\n",
    "\n",
    "z = pulp.LpVariable(\"Risk_adjusted_return\", lowBound=0)\n",
    "for i in range(n):\n",
    "    x[i] = pulp.LpVariable(f\"stock_invest_{i}\", lowBound=0)\n",
    "    d[i] = pulp.LpVariable(f\"dual_variable_{i}\", lowBound=0)\n",
    "    g[i] = pulp.LpVariable(f\"new_decision_variable_{i}\", lowBound=0)\n",
    "    \n",
    "# Define the objective function\n",
    "prob.objective=z\n",
    "\n",
    "# Simulation start\n",
    "for sim in range(num_simulation):\n",
    "# Definition of the constraints\n",
    "    expected9=0\n",
    "    sdt_deviation=0\n",
    "    for t in range(n):\n",
    "        p_i=1.15+t*(0.05/150)\n",
    "        A_i=(0.05/450)*math.sqrt(2*t*n*(n+1))\n",
    "        prob += z <= sum(random.uniform(1.01, 1.4) * x[f] for f in range(n)) - sum(d[f] for f in range(n)) - g[t] * gamma \n",
    "        prob += g[t] + d[t] >= A_i * x[t]\n",
    "        prob += sum(x[f] for f in range(n)) == 1\n",
    "        expected9 += x[t]*random.uniform(1.01, 1.4)\n",
    "#Solving the problem\n",
    "prob.solve()\n",
    "result9 = pulp.value(prob.objective) \n",
    "\n",
    "# Printing the results\n",
    "print('For gamma:',gamma,', Risk_adjustale_return z:',np.mean(result9))\n",
    "print('For gamma:',gamma,', Expected_value is sum(x_iP_i):',np.mean(pulp.value(expected9)))\n",
    "#print('For gamma:',gamma, ', sdt_deviation W:', pulp.value(math.sqrt((pulp.value(sum1))*(sum2))))"
   ]
  },
  {
   "cell_type": "markdown",
   "id": "c5c9bb53",
   "metadata": {},
   "source": [
    "## Gamma = 45"
   ]
  },
  {
   "cell_type": "code",
   "execution_count": 90,
   "id": "aca8c84b",
   "metadata": {},
   "outputs": [
    {
     "name": "stdout",
     "output_type": "stream",
     "text": [
      "For gamma: 45 , Risk_adjustale_return z: 1.1315839\n",
      "For gamma: 45 , Expected_value is sum(x_iP_i): 1.2039623489246778\n"
     ]
    }
   ],
   "source": [
    "import pulp\n",
    "import random\n",
    "import math\n",
    "import numpy as np\n",
    "\n",
    "gamma =45  \n",
    "num_simulation = 100 # The number of iterations is 100\n",
    "n=150\n",
    "# Let's define the problem as a maximisation problem\n",
    "prob = pulp.LpProblem(\"Portfolio_Management_problem\", pulp.LpMaximize)\n",
    "prob += 0\n",
    "\n",
    "# Definition of the decision variables\n",
    "x = {}  # Investment in stocks\n",
    "d = {}  # Dual problem variable\n",
    "g = {}  # new decision variable\n",
    "\n",
    "z = pulp.LpVariable(\"Risk_adjusted_return\", lowBound=0)\n",
    "for i in range(n):\n",
    "    x[i] = pulp.LpVariable(f\"stock_invest_{i}\", lowBound=0)\n",
    "    d[i] = pulp.LpVariable(f\"dual_variable_{i}\", lowBound=0)\n",
    "    g[i] = pulp.LpVariable(f\"new_decision_variable_{i}\", lowBound=0)\n",
    "    \n",
    "# Define the objective function\n",
    "prob.objective=z\n",
    "\n",
    "# Simulation start\n",
    "for sim in range(num_simulation):\n",
    "# Definition of the constraints\n",
    "    expected10=0\n",
    "    sdt_deviation=0\n",
    "    for t in range(n):\n",
    "        p_i=1.15+t*(0.05/150)\n",
    "        A_i=(0.05/450)*math.sqrt(2*t*n*(n+1))\n",
    "        prob += z <= sum(random.uniform(1.01, 1.4) * x[f] for f in range(n)) - sum(d[f] for f in range(n)) - g[t] * gamma \n",
    "        prob += g[t] + d[t] >= A_i * x[t]\n",
    "        prob += sum(x[f] for f in range(n)) == 1\n",
    "        expected10 += x[t]*random.uniform(1.01, 1.4)\n",
    "#Solving the problem\n",
    "prob.solve()\n",
    "result10 = pulp.value(prob.objective) \n",
    "\n",
    "# Printing the results\n",
    "print('For gamma:',gamma,', Risk_adjustale_return z:',np.mean(result10))\n",
    "print('For gamma:',gamma,', Expected_value is sum(x_iP_i):',np.mean(pulp.value(expected10)))\n",
    "#print('For gamma:',gamma, ', sdt_deviation W:', pulp.value(math.sqrt((pulp.value(sum1))*(sum2))))"
   ]
  },
  {
   "cell_type": "markdown",
   "id": "d9a452b0",
   "metadata": {},
   "source": [
    "## Gamma = 50"
   ]
  },
  {
   "cell_type": "code",
   "execution_count": 91,
   "id": "da8edcc7",
   "metadata": {},
   "outputs": [
    {
     "name": "stdout",
     "output_type": "stream",
     "text": [
      "For gamma: 50 , Risk_adjustale_return z: 1.1264868\n",
      "For gamma: 50 , Expected_value is sum(x_iP_i): 1.2103899395358266\n"
     ]
    }
   ],
   "source": [
    "import pulp\n",
    "import random\n",
    "import math\n",
    "import numpy as np\n",
    "\n",
    "gamma =50  \n",
    "num_simulation = 100 # The number of iterations is 100\n",
    "n=150\n",
    "# Let's define the problem as a maximisation problem\n",
    "prob = pulp.LpProblem(\"Portfolio_Management_problem\", pulp.LpMaximize)\n",
    "prob += 0\n",
    "\n",
    "# Definition of the decision variables\n",
    "x = {}  # Investment in stocks\n",
    "d = {}  # Dual problem variable\n",
    "g = {}  # new decision variable\n",
    "\n",
    "z = pulp.LpVariable(\"Risk_adjusted_return\", lowBound=0)\n",
    "for i in range(n):\n",
    "    x[i] = pulp.LpVariable(f\"stock_invest_{i}\", lowBound=0)\n",
    "    d[i] = pulp.LpVariable(f\"dual_variable_{i}\", lowBound=0)\n",
    "    g[i] = pulp.LpVariable(f\"new_decision_variable_{i}\", lowBound=0)\n",
    "    \n",
    "# Define the objective function\n",
    "prob.objective=z\n",
    "\n",
    "# Simulation start\n",
    "for sim in range(num_simulation):\n",
    "# Definition of the constraints\n",
    "    expected11=0\n",
    "    sdt_deviation=0\n",
    "    for t in range(n):\n",
    "        p_i=1.15+t*(0.05/150)\n",
    "        A_i=(0.05/450)*math.sqrt(2*t*n*(n+1))\n",
    "        prob += z <= sum(random.uniform(1.01, 1.4) * x[f] for f in range(n)) - sum(d[f] for f in range(n)) - g[t] * gamma \n",
    "        prob += g[t] + d[t] >= A_i * x[t]\n",
    "        prob += sum(x[f] for f in range(n)) == 1\n",
    "        expected11 += x[t]*random.uniform(1.01, 1.4)\n",
    "#Solving the problem\n",
    "prob.solve()\n",
    "result11 = pulp.value(prob.objective) \n",
    "\n",
    "# Printing the results\n",
    "print('For gamma:',gamma,', Risk_adjustale_return z:',np.mean(result11))\n",
    "print('For gamma:',gamma,', Expected_value is sum(x_iP_i):',np.mean(pulp.value(expected11)))\n",
    "#print('For gamma:',gamma, ', sdt_deviation W:', pulp.value(math.sqrt((pulp.value(sum1))*(sum2))))"
   ]
  },
  {
   "cell_type": "code",
   "execution_count": 92,
   "id": "f3bdc65f",
   "metadata": {},
   "outputs": [
    {
     "name": "stdout",
     "output_type": "stream",
     "text": [
      "[1.2041071571324724, 1.2099445838625165, 1.226614380784746, 1.2033943799015674, 1.216841162063224, 1.1949925368810699, 1.195732855240444, 1.205039740206565, 1.2009682209515846, 1.2039623489246778, 1.2103899395358266]\n"
     ]
    }
   ],
   "source": [
    "import matplotlib.pyplot as plt\n",
    "# Generating data for plotting\n",
    "gamma_values = [0,5,10,15,20,25,30,35,40,45,50]\n",
    "results_values_z=[result1,result2,result3,result4,result5,result6,result7,result8,result9,result10,result11]\n",
    "results_values_xipi=[pulp.value(expected1),pulp.value(expected2),pulp.value(expected3),pulp.value(expected4),pulp.value(expected5),\n",
    "                    pulp.value(expected6),pulp.value(expected7),pulp.value(expected8),pulp.value(expected9),\n",
    "                    pulp.value(expected10),pulp.value(expected11)]\n",
    "print(results_values_xipi)"
   ]
  },
  {
   "cell_type": "code",
   "execution_count": 99,
   "id": "63113cd8",
   "metadata": {},
   "outputs": [
    {
     "data": {
      "image/png": "[encoded data removed]",
      "text/plain": [
       "<Figure size 432x288 with 1 Axes>"
      ]
     },
     "metadata": {
      "needs_background": "light"
     },
     "output_type": "display_data"
    }
   ],
   "source": [
    "#Ploting the results for z and expexted return\n",
    "plt.plot(gamma_values, results_values_z, label=\"Risk adjusted return\")\n",
    "plt.plot(gamma_values, results_values_xipi, label=\"Expected return\")\n",
    "plt.legend(loc=\"upper right\")\n",
    "plt.title(\"Return\")\n",
    "plt.xlabel(\"Gamma\")\n",
    "plt.show()"
   ]
  },
  {
   "cell_type": "code",
   "execution_count": null,
   "id": "e277b70c",
   "metadata": {},
   "outputs": [],
   "source": []
  }
 ],
 "metadata": {
  "kernelspec": {
   "display_name": "Python 3 (ipykernel)",
   "language": "python",
   "name": "python3"
  },
  "language_info": {
   "codemirror_mode": {
    "name": "ipython",
    "version": 3
   },
   "file_extension": ".py",
   "mimetype": "text/x-python",
   "name": "python",
   "nbconvert_exporter": "python",
   "pygments_lexer": "ipython3",
   "version": "3.9.12"
  }
 },
 "nbformat": 4,
 "nbformat_minor": 5
}
